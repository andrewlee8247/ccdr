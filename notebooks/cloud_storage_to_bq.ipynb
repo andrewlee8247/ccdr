{
 "cells": [
  {
   "cell_type": "code",
   "execution_count": 2,
   "metadata": {},
   "outputs": [
    {
     "name": "stderr",
     "output_type": "stream",
     "text": [
      "/home/alee66831/.ccdr/lib/python3.7/site-packages/pandas/compat/__init__.py:85: UserWarning: Could not import the lzma module. Your installed Python is incomplete. Attempting to use lzma compression will result in a RuntimeError.\n",
      "  warnings.warn(msg)\n"
     ]
    }
   ],
   "source": [
    "from google.cloud import storage\n",
    "from google.cloud import bigquery"
   ]
  },
  {
   "cell_type": "code",
   "execution_count": null,
   "metadata": {},
   "outputs": [],
   "source": [
    "from google.cloud import storage\n",
    "from google.cloud import bigquery\n",
    "\n",
    "def upload_cc_bq(event):\n",
    "    storage_client = storage.Client()\n",
    "    bucket = storage_client.get_bucket(\"ccdr-raw\")\n",
    "    blobs = bucket.list_blobs()\n",
    "\n",
    "    file_names = []\n",
    "    for blob in blobs:\n",
    "        file_names.append(blob.name)\n",
    "    for i in range(len(file_names)):\n",
    "        database = 'ccdr-265306'\n",
    "        bigquery_client = bigquery.Client(database)\n",
    "        dataset = bigquery_client.dataset('ccdr_database')\n",
    "        table = dataset.table('credit_cardholder_data')\n",
    "        job_config = bigquery.LoadJobConfig(write_disposition = \"WRITE_TRUNCATE\")\n",
    "        job_config.skip_leading_rows = 1\n",
    "        job = bigquery_client.load_table_from_uri('gs://ccdr-raw/' + file_names[i], \n",
    "                                                  table, job_config = job_config)\n",
    "        job.job_id\n",
    "        job.result()\n",
    "        if job.state == 'DONE':\n",
    "            print(\"state of job is: \" + job.state)\n",
    "        else: \n",
    "            print(job.errors)\n",
    "    return"
   ]
  }
 ],
 "metadata": {
  "kernelspec": {
   "display_name": "Python 3",
   "language": "python",
   "name": "python3"
  },
  "language_info": {
   "codemirror_mode": {
    "name": "ipython",
    "version": 3
   },
   "file_extension": ".py",
   "mimetype": "text/x-python",
   "name": "python",
   "nbconvert_exporter": "python",
   "pygments_lexer": "ipython3",
   "version": "3.7.3"
  }
 },
 "nbformat": 4,
 "nbformat_minor": 4
}
