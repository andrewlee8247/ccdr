{
 "cells": [
  {
   "cell_type": "code",
   "execution_count": null,
   "metadata": {},
   "outputs": [],
   "source": [
    "#import os\n",
    "#import requests\n",
    "#from bs4 import BeautifulSoup\n",
    "#import xlrd\n",
    "#import csv\n",
    "#from io import BytesIO\n",
    "#from google.cloud import storage\n",
    "#from google.cloud.storage import Blob\n",
    "\n",
    "def upload_raw_uci(event, context):\n",
    "    storage_client = storage.Client()\n",
    "    bucket = storage_client.get_bucket('ccdr-raw')\n",
    "    url = 'https://archive.ics.uci.edu/ml/machine-learning-databases/00350/'\n",
    "    headers = {'User-Agent': \"Chrome/54.0.2840.90\"}\n",
    "    response = requests.get(url, headers=headers)\n",
    "    html = response.content\n",
    "    soup = BeautifulSoup(html, 'html.parser')\n",
    "    tmpRow = soup.findAll('a')\n",
    "    for i in range(len(tmpRow)):\n",
    "        if tmpRow[i]['href'][-4:] == '.xls':\n",
    "            get_file = requests.get(url + tmpRow[i]['href'], headers=headers)\n",
    "            file_name = tmpRow[i]['href'][:-4] + '.csv'\n",
    "            convert = BytesIO(get_file.content)\n",
    "            book = xlrd.open_workbook(file_contents = convert.getvalue())\n",
    "            sh = book.sheet_by_name('Data')\n",
    "            outfile = open('/tmp/' + file_name, 'w')\n",
    "            wr = csv.writer(outfile)\n",
    "            for rownum in range(1, sh.nrows):\n",
    "                wr.writerow(sh.row_values(rownum))\n",
    "            outfile.close()\n",
    "            blob = Blob(file_name, bucket)\n",
    "            with open('/tmp/' + file_name, 'rb') as my_file:\n",
    "                blob.upload_from_file(my_file)\n",
    "            os.remove('/tmp/' + file_name)\n",
    "        elif tmpRow[i]['href'][-4:] == '.csv':\n",
    "            file_name = tmpRow[i]['href'] \n",
    "            open('tmp/' + file_name, 'wb').write(get_file.content)[1:]\n",
    "            blob = Blob(file_name, bucket)\n",
    "            with open('/tmp/' + file_name, 'rb') as my_file:\n",
    "                blob.upload_from_file(my_file)\n",
    "            os.remove('/tmp/' + file_name)\n",
    "    return"
   ]
  }
 ],
 "metadata": {
  "kernelspec": {
   "display_name": "Python 3",
   "language": "python",
   "name": "python3"
  },
  "language_info": {
   "codemirror_mode": {
    "name": "ipython",
    "version": 3
   },
   "file_extension": ".py",
   "mimetype": "text/x-python",
   "name": "python",
   "nbconvert_exporter": "python",
   "pygments_lexer": "ipython3",
   "version": "3.7.3"
  }
 },
 "nbformat": 4,
 "nbformat_minor": 4
}
